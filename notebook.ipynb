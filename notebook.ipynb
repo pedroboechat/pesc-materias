{
 "cells": [
  {
   "cell_type": "markdown",
   "metadata": {},
   "source": [
    "## Imports"
   ]
  },
  {
   "cell_type": "code",
   "execution_count": 1,
   "metadata": {},
   "outputs": [],
   "source": [
    "# Standard libraries\n",
    "import csv\n",
    "import re\n",
    "\n",
    "# Other libraries\n",
    "from bs4 import BeautifulSoup as bs\n",
    "import pandas as pd\n",
    "import requests"
   ]
  },
  {
   "cell_type": "markdown",
   "metadata": {},
   "source": [
    "## Base URL"
   ]
  },
  {
   "cell_type": "code",
   "execution_count": 2,
   "metadata": {},
   "outputs": [],
   "source": [
    "BASE_URL = \"https://www.cos.ufrj.br\""
   ]
  },
  {
   "cell_type": "markdown",
   "metadata": {},
   "source": [
    "## Get `courses` page"
   ]
  },
  {
   "cell_type": "markdown",
   "metadata": {},
   "source": [
    "- ### Get `courses` page HTML soup"
   ]
  },
  {
   "cell_type": "code",
   "execution_count": 3,
   "metadata": {},
   "outputs": [],
   "source": [
    "COURSES_URL = \"/index.php/pt-BR/pos-graduacao/disciplinas-3\"\n",
    "\n",
    "courses_soup = bs(\n",
    "    requests.get(BASE_URL + COURSES_URL).text,\n",
    "    \"html.parser\"\n",
    ")"
   ]
  },
  {
   "cell_type": "markdown",
   "metadata": {},
   "source": [
    "- ### Extract a list of `(semester, semester_soup)` tuples"
   ]
  },
  {
   "cell_type": "code",
   "execution_count": 4,
   "metadata": {},
   "outputs": [],
   "source": [
    "semesters_list = [\n",
    "    (\n",
    "        x.find(\"a\").text,\n",
    "        bs(\n",
    "            requests.get(BASE_URL + x.find(\"a\").get(\"href\")).text,\n",
    "            \"html.parser\"\n",
    "        )\n",
    "    )\n",
    "    for x in courses_soup.find_all(\"td\", class_=\"list-title\")\n",
    "]"
   ]
  },
  {
   "cell_type": "markdown",
   "metadata": {},
   "source": [
    "## Get `semester` pages"
   ]
  },
  {
   "cell_type": "markdown",
   "metadata": {},
   "source": [
    "- ### Definition of helper functions"
   ]
  },
  {
   "cell_type": "code",
   "execution_count": 5,
   "metadata": {},
   "outputs": [],
   "source": [
    "def column_renamer(column_name: str) -> str:\n",
    "    \"\"\"Column mapper for renaming DataFrames\n",
    "\n",
    "    Args:\n",
    "        column_name (str): Name of a column\n",
    "\n",
    "    Returns:\n",
    "        str: Mapped name for the column\n",
    "    \"\"\"\n",
    "    try:\n",
    "        mapper = {\n",
    "            \"COD.\": \"codigo\",\n",
    "            \"Códigos\": \"codigo\",\n",
    "            \"CRED\": \"creditos\",\n",
    "            \"Céditos\": \"creditos\",\n",
    "            \"Créditos\": \"creditos\",\n",
    "            \"TURMA\": \"turma\",\n",
    "            \"Turmas\": \"turma\",\n",
    "            \"DISCIPLINA\": \"disciplina\",\n",
    "            \"Disciplinas\": \"disciplina\",\n",
    "            \"HORÁRIO\": \"horario\",\n",
    "            \"Horários\": \"horario\",\n",
    "            \"SALA\": \"sala\",\n",
    "            \"Sala\": \"sala\",\n",
    "            \"Salas\": \"sala\",\n",
    "            \"MOODLE\": \"sala\",\n",
    "            \"Pres/Híbrid\": \"tipo\",\n",
    "            \"PROFESSOR\": \"docentes\",\n",
    "            \"Docentes\": \"docentes\",\n",
    "            \"Graduação?\": \"graduacao\",\n",
    "            \"Grad.\": \"graduacao\",\n",
    "            \"GRADUAÇÃO\": \"graduacao\"\n",
    "        }\n",
    "        return mapper[column_name]\n",
    "    except KeyError as error:\n",
    "        raise KeyError(\n",
    "            f\"New column name ({column_name}): Please update `column_renamer` function.\"\n",
    "        ) from error"
   ]
  },
  {
   "cell_type": "markdown",
   "metadata": {},
   "source": [
    "- ### Initialize DataFrame"
   ]
  },
  {
   "cell_type": "code",
   "execution_count": 6,
   "metadata": {},
   "outputs": [],
   "source": [
    "df = pd.DataFrame()"
   ]
  },
  {
   "cell_type": "markdown",
   "metadata": {},
   "source": [
    "- ### Loop through `semesters_list` extracting page data"
   ]
  },
  {
   "cell_type": "code",
   "execution_count": 7,
   "metadata": {},
   "outputs": [],
   "source": [
    "for semester, soup in semesters_list:\n",
    "    table_html = str(soup.find(\n",
    "        \"table\"\n",
    "    ))\n",
    "\n",
    "    table_df = pd.read_html(\n",
    "        table_html,\n",
    "        header=0,\n",
    "        decimal=\",\",\n",
    "        thousands=\".\"\n",
    "    )[0].rename(columns=column_renamer)\n",
    "\n",
    "    table_df[\"semestre\"] = re.sub(\n",
    "        \"\\n|\\r|\\t\",\n",
    "        \"\",\n",
    "        semester\n",
    "    )\n",
    "    \n",
    "    df = pd.concat(\n",
    "        [df, table_df]\n",
    "    )"
   ]
  },
  {
   "cell_type": "markdown",
   "metadata": {},
   "source": [
    "- ### Data treatment"
   ]
  },
  {
   "cell_type": "markdown",
   "metadata": {},
   "source": [
    "#### 1) `-----` to `NaN`"
   ]
  },
  {
   "cell_type": "code",
   "execution_count": 8,
   "metadata": {},
   "outputs": [],
   "source": [
    "df = df.replace(re.compile(r\"-+\"), float(\"NaN\"))"
   ]
  },
  {
   "cell_type": "markdown",
   "metadata": {},
   "source": [
    "#### 2) Fix typo and convert dtype for `creditos` column"
   ]
  },
  {
   "cell_type": "code",
   "execution_count": 9,
   "metadata": {},
   "outputs": [],
   "source": [
    "df[\"creditos\"] = df[\"creditos\"].replace(\"vc 3,0\", 3.0).astype(float)"
   ]
  },
  {
   "cell_type": "markdown",
   "metadata": {},
   "source": [
    "## Export DataFrame"
   ]
  },
  {
   "cell_type": "code",
   "execution_count": 10,
   "metadata": {},
   "outputs": [],
   "source": [
    "df.to_excel(\n",
    "    \"./courses.xlsx\",\n",
    "    index=False\n",
    ")\n",
    "\n",
    "df.to_csv(\n",
    "    \"./courses.zip\",\n",
    "    sep=\";\",\n",
    "    index=False,\n",
    "    compression={\n",
    "        \"method\": \"zip\",\n",
    "        \"archive_name\": \"courses.csv\"\n",
    "    },\n",
    "    quoting=csv.QUOTE_ALL\n",
    ")"
   ]
  }
 ],
 "metadata": {
  "kernelspec": {
   "display_name": "Python 3.9.7 ('base')",
   "language": "python",
   "name": "python3"
  },
  "language_info": {
   "codemirror_mode": {
    "name": "ipython",
    "version": 3
   },
   "file_extension": ".py",
   "mimetype": "text/x-python",
   "name": "python",
   "nbconvert_exporter": "python",
   "pygments_lexer": "ipython3",
   "version": "3.9.7"
  },
  "orig_nbformat": 4,
  "vscode": {
   "interpreter": {
    "hash": "aea149784bd30735ce6bf75b9a5314843328adf2083b944f20623ef50c2ca00d"
   }
  }
 },
 "nbformat": 4,
 "nbformat_minor": 2
}
